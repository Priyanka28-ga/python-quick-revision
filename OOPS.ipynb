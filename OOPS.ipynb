{
 "cells": [
  {
   "cell_type": "markdown",
   "id": "2ee9a45e",
   "metadata": {},
   "source": [
    "# oops in python #"
   ]
  },
  {
   "cell_type": "code",
   "execution_count": null,
   "id": "54af9eed",
   "metadata": {},
   "outputs": [],
   "source": [
    "#it is approach to adddress real world complex problems into your codes\n",
    "# classes objects self constructors inheritance encapsulation polymorphsim abstraction"
   ]
  },
  {
   "cell_type": "code",
   "execution_count": null,
   "id": "467b0fc9",
   "metadata": {},
   "outputs": [],
   "source": [
    "#classes is an blueprint for object\n",
    "#object is an instance of class which have all the properties and attributes that has been deined in hthe class"
   ]
  },
  {
   "cell_type": "code",
   "execution_count": 1,
   "id": "1aff0ba2",
   "metadata": {},
   "outputs": [],
   "source": [
    "class Students:\n",
    "    #can also write small s but capital trend is followed\n",
    "    name=\"Madhvi\"\n",
    "    roll=1234"
   ]
  },
  {
   "cell_type": "code",
   "execution_count": 2,
   "id": "142ed040",
   "metadata": {},
   "outputs": [],
   "source": [
    "#making object \n",
    "s1=Students() "
   ]
  },
  {
   "cell_type": "code",
   "execution_count": 4,
   "id": "c788ae5d",
   "metadata": {},
   "outputs": [
    {
     "data": {
      "text/plain": [
       "'Madhvi'"
      ]
     },
     "execution_count": 4,
     "metadata": {},
     "output_type": "execute_result"
    }
   ],
   "source": [
    "s1.name"
   ]
  },
  {
   "cell_type": "code",
   "execution_count": 5,
   "id": "5b9f04da",
   "metadata": {},
   "outputs": [
    {
     "data": {
      "text/plain": [
       "1234"
      ]
     },
     "execution_count": 5,
     "metadata": {},
     "output_type": "execute_result"
    }
   ],
   "source": [
    "s1.roll"
   ]
  },
  {
   "cell_type": "code",
   "execution_count": null,
   "id": "334f4cc2",
   "metadata": {},
   "outputs": [],
   "source": [
    "#now if we ceeate other student \n",
    "s2=Students()\n",
    "#then fetch the properties like\n",
    "s2.name\n",
    "s2.roll\n",
    "#you will get same output as s1 as we have set name and roll in class\n",
    "#so self come in use in this scenario "
   ]
  },
  {
   "cell_type": "code",
   "execution_count": 6,
   "id": "0dfa9269",
   "metadata": {},
   "outputs": [],
   "source": [
    "#self keyword\n",
    "class Students:\n",
    "    #you can use any other parameter too other than self it just means that first parameter of function will act like self keyword\n",
    "    def feed(self,name,roll,age,marksobtained,maxmarks):\n",
    "        self.name=name\n",
    "        self.roll=roll\n",
    "        self.age=age\n",
    "        self.marksobtaibed=marksobtained\n",
    "        self.maxmarks=maxmarks\n",
    "    def result(self):\n",
    "        per=(self.marksobtaibed/self.maxmarks)*100\n",
    "        return per\n",
    "    #now this result ne wot work till we have initliased our variables in feed function so we have constructors i.e. init \n",
    "    #def feed(ref,name,roll,age):\n",
    "        #ref.name=name\n",
    "        #ref.roll=roll\n",
    "        #ref.age=age"
   ]
  },
  {
   "cell_type": "code",
   "execution_count": 7,
   "id": "e00e585f",
   "metadata": {},
   "outputs": [],
   "source": [
    "s1=Students()\n",
    "s2=Students()\n",
    "s3=Students()"
   ]
  },
  {
   "cell_type": "code",
   "execution_count": 8,
   "id": "93f213fc",
   "metadata": {},
   "outputs": [],
   "source": [
    "s1.feed(\"shyam\",12,21)\n",
    "s2.feed(\"ram\",13,31)\n",
    "s3.feed(\"yug\",14,41)"
   ]
  },
  {
   "cell_type": "code",
   "execution_count": 12,
   "id": "b9d1bd92",
   "metadata": {},
   "outputs": [
    {
     "data": {
      "text/plain": [
       "('shyam', 21, 12)"
      ]
     },
     "execution_count": 12,
     "metadata": {},
     "output_type": "execute_result"
    }
   ],
   "source": [
    "s1.name,s1.age,s1.roll"
   ]
  },
  {
   "cell_type": "code",
   "execution_count": 10,
   "id": "5a06d0ca",
   "metadata": {},
   "outputs": [
    {
     "data": {
      "text/plain": [
       "41"
      ]
     },
     "execution_count": 10,
     "metadata": {},
     "output_type": "execute_result"
    }
   ],
   "source": [
    "s3.age"
   ]
  },
  {
   "cell_type": "code",
   "execution_count": 11,
   "id": "7507b1f6",
   "metadata": {},
   "outputs": [
    {
     "data": {
      "text/plain": [
       "13"
      ]
     },
     "execution_count": 11,
     "metadata": {},
     "output_type": "execute_result"
    }
   ],
   "source": [
    "s2.roll"
   ]
  },
  {
   "cell_type": "code",
   "execution_count": null,
   "id": "348b0d2f",
   "metadata": {},
   "outputs": [],
   "source": [
    "#constructor\n",
    "#self in voking function \n",
    "#that will cat itself when the object being declared\n",
    "#does not have smane name as class\n",
    "#has same name i.e. __init__\n",
    "#helps in performing initialixzation without any function\n",
    "#or you want to make task mandatory for object like intialization\n"
   ]
  },
  {
   "cell_type": "code",
   "execution_count": 23,
   "id": "81214341",
   "metadata": {},
   "outputs": [],
   "source": [
    "class Students:\n",
    "    def __init__(self,name,roll,age,marksobtain,maxmarks):\n",
    "        self.name=name\n",
    "        self.roll=roll\n",
    "        self.age=age\n",
    "        self.marksobtain=marksobtain\n",
    "        self.maxmarks=maxmarks\n",
    "    def result(self):\n",
    "        per=(self.marksobtain/self.maxmarks)*100\n",
    "        return per"
   ]
  },
  {
   "cell_type": "code",
   "execution_count": 14,
   "id": "58b3f77f",
   "metadata": {},
   "outputs": [
    {
     "ename": "TypeError",
     "evalue": "Students.__init__() missing 5 required positional arguments: 'name', 'roll', 'age', 'marksobtained', and 'maxmarks'",
     "output_type": "error",
     "traceback": [
      "\u001b[1;31m---------------------------------------------------------------------------\u001b[0m",
      "\u001b[1;31mTypeError\u001b[0m                                 Traceback (most recent call last)",
      "Cell \u001b[1;32mIn[14], line 2\u001b[0m\n\u001b[0;32m      1\u001b[0m \u001b[38;5;66;03m# now if you run this\u001b[39;00m\n\u001b[1;32m----> 2\u001b[0m s1\u001b[38;5;241m=\u001b[39mStudents()\n\u001b[0;32m      3\u001b[0m s2\u001b[38;5;241m=\u001b[39mStudents()\n\u001b[0;32m      4\u001b[0m s3\u001b[38;5;241m=\u001b[39mStudents()\n",
      "\u001b[1;31mTypeError\u001b[0m: Students.__init__() missing 5 required positional arguments: 'name', 'roll', 'age', 'marksobtained', and 'maxmarks'"
     ]
    }
   ],
   "source": [
    "# now if you run this\n",
    "s1=Students()\n",
    "s2=Students()\n",
    "s3=Students()\n",
    "#it wont run as constructor do not make empty objects"
   ]
  },
  {
   "cell_type": "code",
   "execution_count": 25,
   "id": "fb5d5cb7",
   "metadata": {},
   "outputs": [],
   "source": [
    "s1=Students(\"anushka\",123,16,490,500)\n",
    "s2=Students(\"nandy\",456,16,450,500)"
   ]
  },
  {
   "cell_type": "code",
   "execution_count": 26,
   "id": "c3bf7cd4",
   "metadata": {},
   "outputs": [
    {
     "data": {
      "text/plain": [
       "('anushka', 'nandy')"
      ]
     },
     "execution_count": 26,
     "metadata": {},
     "output_type": "execute_result"
    }
   ],
   "source": [
    "s1.name,s2.name"
   ]
  },
  {
   "cell_type": "code",
   "execution_count": 28,
   "id": "58c7f1f7",
   "metadata": {},
   "outputs": [
    {
     "data": {
      "text/plain": [
       "(500, 500)"
      ]
     },
     "execution_count": 28,
     "metadata": {},
     "output_type": "execute_result"
    }
   ],
   "source": [
    "s1.maxmarks,s2.maxmarks"
   ]
  },
  {
   "cell_type": "code",
   "execution_count": 30,
   "id": "529adf75",
   "metadata": {},
   "outputs": [
    {
     "data": {
      "text/plain": [
       "(490, 450)"
      ]
     },
     "execution_count": 30,
     "metadata": {},
     "output_type": "execute_result"
    }
   ],
   "source": [
    "s1.marksobtain,s2.marksobtain\n"
   ]
  },
  {
   "cell_type": "code",
   "execution_count": 31,
   "id": "b7826ffb",
   "metadata": {},
   "outputs": [
    {
     "data": {
      "text/plain": [
       "98.0"
      ]
     },
     "execution_count": 31,
     "metadata": {},
     "output_type": "execute_result"
    }
   ],
   "source": [
    "s1.result()"
   ]
  },
  {
   "cell_type": "markdown",
   "id": "5658b776",
   "metadata": {},
   "source": [
    "# inheritance #"
   ]
  },
  {
   "cell_type": "code",
   "execution_count": 1,
   "id": "cc78112a",
   "metadata": {},
   "outputs": [],
   "source": [
    "class Father:\n",
    "    def show(self):\n",
    "        print(\"this is father's class\")\n",
    "class Child:\n",
    "    def display(self):\n",
    "        print(\"this is children's class\")"
   ]
  },
  {
   "cell_type": "code",
   "execution_count": 2,
   "id": "7ee6628b",
   "metadata": {},
   "outputs": [],
   "source": [
    "obj=Child()"
   ]
  },
  {
   "cell_type": "code",
   "execution_count": 3,
   "id": "053f2aab",
   "metadata": {},
   "outputs": [
    {
     "name": "stdout",
     "output_type": "stream",
     "text": [
      "this is children's class\n"
     ]
    }
   ],
   "source": [
    "#child can inherit its own class\n",
    "obj.display()"
   ]
  },
  {
   "cell_type": "code",
   "execution_count": 4,
   "id": "b65227c1",
   "metadata": {},
   "outputs": [
    {
     "ename": "AttributeError",
     "evalue": "'Child' object has no attribute 'show'",
     "output_type": "error",
     "traceback": [
      "\u001b[1;31m---------------------------------------------------------------------------\u001b[0m",
      "\u001b[1;31mAttributeError\u001b[0m                            Traceback (most recent call last)",
      "Cell \u001b[1;32mIn[4], line 2\u001b[0m\n\u001b[0;32m      1\u001b[0m \u001b[38;5;66;03m#rn there is no relation in father and child do child wont be able to inherit father \u001b[39;00m\n\u001b[1;32m----> 2\u001b[0m obj\u001b[38;5;241m.\u001b[39mshow()\n",
      "\u001b[1;31mAttributeError\u001b[0m: 'Child' object has no attribute 'show'"
     ]
    }
   ],
   "source": [
    "#rn there is no relation in father and child do child wont be able to inherit father \n",
    "obj.show()"
   ]
  },
  {
   "cell_type": "code",
   "execution_count": 5,
   "id": "842b24b2",
   "metadata": {},
   "outputs": [],
   "source": [
    "#so now we write\n",
    "#single inheritance\n",
    "class Father:\n",
    "    def show(self):\n",
    "        print(\"this is father's class\")\n",
    "class Child(Father):\n",
    "    def display(self):\n",
    "        print(\"this is children's class\")"
   ]
  },
  {
   "cell_type": "code",
   "execution_count": 8,
   "id": "1f1b5782",
   "metadata": {},
   "outputs": [
    {
     "name": "stdout",
     "output_type": "stream",
     "text": [
      "this is father's class\n"
     ]
    }
   ],
   "source": [
    "obj=Child()\n",
    "obj.show() #now it can easily access properites of father"
   ]
  },
  {
   "cell_type": "code",
   "execution_count": null,
   "id": "084e2072",
   "metadata": {},
   "outputs": [],
   "source": [
    "#types of inheritance\n",
    "# single multiple multilevel hierarchial hybrid"
   ]
  },
  {
   "cell_type": "markdown",
   "id": "25586c2e",
   "metadata": {},
   "source": [
    "# multiple inheritance"
   ]
  },
  {
   "cell_type": "code",
   "execution_count": 9,
   "id": "506141eb",
   "metadata": {},
   "outputs": [],
   "source": [
    "class Father:\n",
    "    def show1(self):\n",
    "        print(\"this is father's class\")\n",
    "class Mother:\n",
    "    def show2(self):\n",
    "        print(\"this is mother's class\")\n",
    "class Child(Father,Mother):\n",
    "    def display(self):\n",
    "        print(\"this is children's class\")"
   ]
  },
  {
   "cell_type": "code",
   "execution_count": 10,
   "id": "293e2df3",
   "metadata": {},
   "outputs": [
    {
     "name": "stdout",
     "output_type": "stream",
     "text": [
      "this is children's class\n",
      "this is father's class\n",
      "this is mother's class\n"
     ]
    }
   ],
   "source": [
    "obj=Child()\n",
    "obj.display()\n",
    "obj.show1()\n",
    "obj.show2()"
   ]
  },
  {
   "cell_type": "code",
   "execution_count": 14,
   "id": "d87f5038",
   "metadata": {},
   "outputs": [],
   "source": [
    "#multilevel inheritance\n",
    "class GrandFather:\n",
    "    def anticar(self):\n",
    "        print(\"this is grandfather class\")\n",
    "class Father(GrandFather):\n",
    "    def dadcar(self):\n",
    "        print(\"this is father's class\")\n",
    "class Child(Father):\n",
    "    def mycar(self):\n",
    "        print(\"this is children's class\")"
   ]
  },
  {
   "cell_type": "code",
   "execution_count": 15,
   "id": "4b85b56b",
   "metadata": {},
   "outputs": [
    {
     "name": "stdout",
     "output_type": "stream",
     "text": [
      "this is children's class\n",
      "this is father's class\n",
      "this is grandfather class\n"
     ]
    }
   ],
   "source": [
    "obj=Child()\n",
    "obj.mycar()\n",
    "obj.dadcar()\n",
    "obj.anticar()"
   ]
  },
  {
   "cell_type": "code",
   "execution_count": 18,
   "id": "a70b0ea9",
   "metadata": {},
   "outputs": [],
   "source": [
    "#hierarchial inheritance\n",
    "#multiple classes inheriting the properties from single clas\n",
    "class Teacher:\n",
    "    def lesson_1(self):\n",
    "        print(\"I have learnt the chapter 1\")\n",
    "class student1(Teacher):\n",
    "    pass\n",
    "class student2(Teacher):\n",
    "    pass\n",
    "class student3(Teacher):\n",
    "    pass\n",
    "    "
   ]
  },
  {
   "cell_type": "code",
   "execution_count": 19,
   "id": "285cdfd1",
   "metadata": {},
   "outputs": [],
   "source": [
    "t=Teacher()\n",
    "s1=student1()\n",
    "s2=student2()\n",
    "s3=student3()"
   ]
  },
  {
   "cell_type": "code",
   "execution_count": 21,
   "id": "91aa7342",
   "metadata": {},
   "outputs": [
    {
     "name": "stdout",
     "output_type": "stream",
     "text": [
      "I have learnt the chapter 1\n",
      "I have learnt the chapter 1\n",
      "I have learnt the chapter 1\n",
      "I have learnt the chapter 1\n"
     ]
    }
   ],
   "source": [
    "t.lesson_1()\n",
    "s1.lesson_1()\n",
    "s2.lesson_1()\n",
    "s3.lesson_1()"
   ]
  },
  {
   "cell_type": "code",
   "execution_count": 28,
   "id": "6e93540f",
   "metadata": {},
   "outputs": [
    {
     "name": "stdout",
     "output_type": "stream",
     "text": [
      "Animal speaks\n",
      "Mammal gives birth\n",
      "Bird lays eggs\n"
     ]
    }
   ],
   "source": [
    "#hybrid inheritance\n",
    "class Animal:\n",
    "    def speak(self):\n",
    "        print(\"Animal speaks\")\n",
    "\n",
    "\n",
    "class Mammal(Animal):\n",
    "    def give_birth(self):\n",
    "        print(\"Mammal gives birth\")\n",
    "\n",
    "\n",
    "class Bird(Animal):\n",
    "    def lay_eggs(self):\n",
    "        print(\"Bird lays eggs\")\n",
    "\n",
    "\n",
    "class Platypus(Mammal, Bird):\n",
    "    pass\n",
    "\n",
    "\n",
    "platypus = Platypus()\n",
    "platypus.speak()        # Method from Animal class\n",
    "platypus.give_birth()   # Method from Mammal class\n",
    "platypus.lay_eggs()    # Method from Bird class"
   ]
  },
  {
   "cell_type": "markdown",
   "id": "3dc1ee40",
   "metadata": {},
   "source": [
    "# encapsulation #"
   ]
  },
  {
   "cell_type": "code",
   "execution_count": null,
   "id": "95ec9a16",
   "metadata": {},
   "outputs": [],
   "source": [
    "#access modifier/specifiers\n",
    "#public - accessible anywhere\n",
    "#protected - restricted outside the clas but can be accessible within the class and the child class\n",
    "#private - restricted outside the class and can only be accessible with the class"
   ]
  },
  {
   "cell_type": "code",
   "execution_count": null,
   "id": "250438e0",
   "metadata": {},
   "outputs": [],
   "source": [
    "#protected is not supported in python"
   ]
  },
  {
   "cell_type": "code",
   "execution_count": 22,
   "id": "e87e0932",
   "metadata": {},
   "outputs": [],
   "source": [
    "class xyz:\n",
    "    def __init__(self,name,age,marks):\n",
    "        self.name=name #public\n",
    "        self._age=age #protect\n",
    "        self.__marks=marks #private\n",
    "    def show(self): #getter method \n",
    "        print(self.__marks)"
   ]
  },
  {
   "cell_type": "code",
   "execution_count": 23,
   "id": "c52ea033",
   "metadata": {},
   "outputs": [
    {
     "data": {
      "text/plain": [
       "'Aakash'"
      ]
     },
     "execution_count": 23,
     "metadata": {},
     "output_type": "execute_result"
    }
   ],
   "source": [
    "student=xyz(\"Aakash\",21,90)\n",
    "student.name"
   ]
  },
  {
   "cell_type": "code",
   "execution_count": 25,
   "id": "2a111cce",
   "metadata": {},
   "outputs": [
    {
     "data": {
      "text/plain": [
       "21"
      ]
     },
     "execution_count": 25,
     "metadata": {},
     "output_type": "execute_result"
    }
   ],
   "source": [
    "student._age"
   ]
  },
  {
   "cell_type": "code",
   "execution_count": 26,
   "id": "9a6a81d8",
   "metadata": {},
   "outputs": [
    {
     "ename": "AttributeError",
     "evalue": "'xyz' object has no attribute '__marks'",
     "output_type": "error",
     "traceback": [
      "\u001b[1;31m---------------------------------------------------------------------------\u001b[0m",
      "\u001b[1;31mAttributeError\u001b[0m                            Traceback (most recent call last)",
      "Cell \u001b[1;32mIn[26], line 2\u001b[0m\n\u001b[0;32m      1\u001b[0m \u001b[38;5;66;03m#you wont be able to get marks as it is private\u001b[39;00m\n\u001b[1;32m----> 2\u001b[0m student\u001b[38;5;241m.\u001b[39m__marks\n",
      "\u001b[1;31mAttributeError\u001b[0m: 'xyz' object has no attribute '__marks'"
     ]
    }
   ],
   "source": [
    "#you wont be able to get marks as it is private\n",
    "student.__marks"
   ]
  },
  {
   "cell_type": "code",
   "execution_count": 27,
   "id": "0a62df90",
   "metadata": {},
   "outputs": [
    {
     "name": "stdout",
     "output_type": "stream",
     "text": [
      "90\n"
     ]
    }
   ],
   "source": [
    "student.show()\n",
    "#a methd to get private memebers usin getter method "
   ]
  },
  {
   "cell_type": "markdown",
   "id": "272fc5b6",
   "metadata": {},
   "source": [
    "# polymorpshim #"
   ]
  },
  {
   "cell_type": "code",
   "execution_count": null,
   "id": "e9abaea7",
   "metadata": {},
   "outputs": [],
   "source": [
    "#method overloading\n",
    "#method overiding\n",
    "#operator overloading"
   ]
  },
  {
   "cell_type": "code",
   "execution_count": 1,
   "id": "38860282",
   "metadata": {},
   "outputs": [],
   "source": [
    "#method overiding means when child class will override the parent class function if they have samne name\n",
    "class ABC:\n",
    "    def show_my_output(self):\n",
    "        print(\"This is the function of abc class\")\n",
    "class XYZ(ABC):\n",
    "    def show_my_output(self):\n",
    "        print(\"this is the function of xyz class\")"
   ]
  },
  {
   "cell_type": "code",
   "execution_count": 4,
   "id": "42a7d935",
   "metadata": {},
   "outputs": [
    {
     "name": "stdout",
     "output_type": "stream",
     "text": [
      "This is the function of abc class\n"
     ]
    }
   ],
   "source": [
    "ob_abc=ABC()\n",
    "ob_xyz=XYZ()\n",
    "ob_abc.show_my_output()"
   ]
  },
  {
   "cell_type": "code",
   "execution_count": 5,
   "id": "7e0b659e",
   "metadata": {},
   "outputs": [
    {
     "name": "stdout",
     "output_type": "stream",
     "text": [
      "this is the function of xyz class\n"
     ]
    }
   ],
   "source": [
    "ob_xyz.show_my_output()\n",
    "#if function name same then there is confusion which function to call\n",
    "# so it will override parent function and use its own "
   ]
  },
  {
   "cell_type": "code",
   "execution_count": 6,
   "id": "a34357a7",
   "metadata": {},
   "outputs": [],
   "source": [
    "#super function\n",
    "#as we saw in overriding child function is given priority\n",
    "#but if we want that our parent class should also be executed\n",
    "#it should also be given priority then this function comes to rescue \n",
    "class ABC:\n",
    "    def show_my_ouput(self):\n",
    "        print(\"fucntion of abc class\")\n",
    "class XYZ(ABC):\n",
    "    def show_my_output(self):\n",
    "        super().show_my_ouput()\n",
    "        print(\"function of xyz class\")"
   ]
  },
  {
   "cell_type": "code",
   "execution_count": 8,
   "id": "49252ab4",
   "metadata": {},
   "outputs": [
    {
     "name": "stdout",
     "output_type": "stream",
     "text": [
      "fucntion of abc class\n",
      "function of xyz class\n"
     ]
    }
   ],
   "source": [
    "ob_xyz=XYZ()\n",
    "#super function will obviusly cal child class function \n",
    "#but it will also help us to run the parent class function too \n",
    "#if you want to print child class function first then change the line of super function\n",
    "#write that after print(\"func of xyz class\")\n",
    "#works as intrepretor line by line \n",
    "ob_xyz.show_my_output()"
   ]
  },
  {
   "cell_type": "code",
   "execution_count": null,
   "id": "004f1f74",
   "metadata": {},
   "outputs": [],
   "source": [
    "#method overloading-same function name but with different parameters "
   ]
  },
  {
   "cell_type": "code",
   "execution_count": 9,
   "id": "143d2e9b",
   "metadata": {},
   "outputs": [],
   "source": [
    "class calculation:\n",
    "    def addition(self,a,b):\n",
    "        self.a=a\n",
    "        self.b=b\n",
    "        result=self.a+self.b\n",
    "        print(result)\n",
    "    def addition(self,a,b,c):\n",
    "        self.a=a\n",
    "        self.b=b\n",
    "        self.c=c\n",
    "        result=self.a+self.b+self.c\n",
    "        print(result)"
   ]
  },
  {
   "cell_type": "code",
   "execution_count": 10,
   "id": "2414632e",
   "metadata": {},
   "outputs": [],
   "source": [
    "obj=calculation()"
   ]
  },
  {
   "cell_type": "code",
   "execution_count": 11,
   "id": "dc3db1bc",
   "metadata": {},
   "outputs": [
    {
     "name": "stdout",
     "output_type": "stream",
     "text": [
      "124\n"
     ]
    }
   ],
   "source": [
    "obj.addition(23,45,56)"
   ]
  },
  {
   "cell_type": "code",
   "execution_count": 12,
   "id": "3e4fb3cd",
   "metadata": {},
   "outputs": [
    {
     "ename": "TypeError",
     "evalue": "calculation.addition() missing 1 required positional argument: 'c'",
     "output_type": "error",
     "traceback": [
      "\u001b[1;31m---------------------------------------------------------------------------\u001b[0m",
      "\u001b[1;31mTypeError\u001b[0m                                 Traceback (most recent call last)",
      "Cell \u001b[1;32mIn[12], line 1\u001b[0m\n\u001b[1;32m----> 1\u001b[0m obj\u001b[38;5;241m.\u001b[39maddition(\u001b[38;5;241m23\u001b[39m,\u001b[38;5;241m45\u001b[39m)\n",
      "\u001b[1;31mTypeError\u001b[0m: calculation.addition() missing 1 required positional argument: 'c'"
     ]
    }
   ],
   "source": [
    "obj.addition(23,45)\n",
    "#now this wont work because intrepretor consider the last definitio of our function\n",
    "#if we want to make this work we need to use default arguments"
   ]
  },
  {
   "cell_type": "code",
   "execution_count": 13,
   "id": "734206ab",
   "metadata": {},
   "outputs": [],
   "source": [
    "#default arguments\n",
    "class calculation:\n",
    "    def addition(self,a=0,b=0,c=0):\n",
    "        self.a=a\n",
    "        self.b=b\n",
    "        self.c=c\n",
    "        Result=self.a +self.b +self.c\n",
    "        print(Result)"
   ]
  },
  {
   "cell_type": "code",
   "execution_count": 18,
   "id": "0cb6c77c",
   "metadata": {},
   "outputs": [
    {
     "name": "stdout",
     "output_type": "stream",
     "text": [
      "10\n",
      "44\n",
      "410\n"
     ]
    }
   ],
   "source": [
    "obj=calculation()\n",
    "obj.addition(10)\n",
    "obj.addition(10,34)\n",
    "obj.addition(10,56,344)"
   ]
  },
  {
   "cell_type": "code",
   "execution_count": 19,
   "id": "e9a7b8db",
   "metadata": {},
   "outputs": [
    {
     "name": "stdout",
     "output_type": "stream",
     "text": [
      "39\n",
      "45\n",
      "43\n",
      "5\n",
      "34\n",
      "53\n"
     ]
    }
   ],
   "source": [
    "def fun(*a):\n",
    "    for i in a:\n",
    "        print(i)\n",
    "fun(39,45,43,5,34,53)"
   ]
  },
  {
   "cell_type": "code",
   "execution_count": 20,
   "id": "94491056",
   "metadata": {},
   "outputs": [
    {
     "name": "stdout",
     "output_type": "stream",
     "text": [
      "7\n",
      "tanmaysoni\n"
     ]
    }
   ],
   "source": [
    "#operator overloading\n",
    "def add(a,b):\n",
    "    print(a+b)\n",
    "add(3,4)\n",
    "add(\"tanmay\",\"soni\")"
   ]
  },
  {
   "cell_type": "code",
   "execution_count": null,
   "id": "9a0e817e",
   "metadata": {},
   "outputs": [],
   "source": [
    "#In python *(multiply) and * (Getting multiple input)\n",
    "# * pointer and Multiple"
   ]
  },
  {
   "cell_type": "markdown",
   "id": "35429f32",
   "metadata": {},
   "source": [
    "# abstraction #"
   ]
  },
  {
   "cell_type": "code",
   "execution_count": 1,
   "id": "b0dd7782",
   "metadata": {},
   "outputs": [
    {
     "name": "stdout",
     "output_type": "stream",
     "text": [
      "I can walk and run\n"
     ]
    }
   ],
   "source": [
    "#syntax of abstraction\n",
    "from abc import ABC , abstractmethod\n",
    "class Animal(ABC):\n",
    "    #whatever thing you want to keep hidden will come here\n",
    "    @abstractmethod\n",
    "    def move(self):\n",
    "        pass\n",
    "class Human(Animal):\n",
    "    def move(self):\n",
    "        print(\"I can walk and run\")\n",
    "class Snake(Animal):\n",
    "    def move(self):\n",
    "        print(\"I can crawl\")\n",
    "obj=Human()\n",
    "obj.move()"
   ]
  },
  {
   "cell_type": "code",
   "execution_count": null,
   "id": "61914a16",
   "metadata": {},
   "outputs": [],
   "source": []
  }
 ],
 "metadata": {
  "kernelspec": {
   "display_name": "Python 3 (ipykernel)",
   "language": "python",
   "name": "python3"
  },
  "language_info": {
   "codemirror_mode": {
    "name": "ipython",
    "version": 3
   },
   "file_extension": ".py",
   "mimetype": "text/x-python",
   "name": "python",
   "nbconvert_exporter": "python",
   "pygments_lexer": "ipython3",
   "version": "3.11.4"
  }
 },
 "nbformat": 4,
 "nbformat_minor": 5
}
